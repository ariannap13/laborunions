{
 "cells": [
  {
   "cell_type": "code",
   "execution_count": 4,
   "metadata": {},
   "outputs": [],
   "source": [
    "import pandas as pd\n",
    "import json \n",
    "import re\n",
    "from tqdm import tqdm\n",
    "import fuzzywuzzy   \n",
    "from fuzzywuzzy import process\n"
   ]
  },
  {
   "cell_type": "markdown",
   "metadata": {},
   "source": [
    "# Hierarchy"
   ]
  },
  {
   "cell_type": "code",
   "execution_count": null,
   "metadata": {},
   "outputs": [],
   "source": [
    "with open('../data/hierarchy_elections_clean.json') as f:\n",
    "    hierarchy = json.load(f)"
   ]
  },
  {
   "cell_type": "code",
   "execution_count": 83,
   "metadata": {},
   "outputs": [
    {
     "data": {
      "text/plain": [
       "2911"
      ]
     },
     "execution_count": 83,
     "metadata": {},
     "output_type": "execute_result"
    }
   ],
   "source": [
    "# get all values from the hierarchy\n",
    "all_unions = []\n",
    "for key, value in hierarchy.items():\n",
    "    all_unions += value\n",
    "\n",
    "len(all_unions)\n"
   ]
  },
  {
   "cell_type": "markdown",
   "metadata": {},
   "source": [
    "AFL-CIO unions"
   ]
  },
  {
   "cell_type": "code",
   "execution_count": null,
   "metadata": {},
   "outputs": [],
   "source": [
    "aflcio_unions = pd.read_csv('../data/aflcio_unions_cleaned.csv') # this is taken from the AFL-CIO website"
   ]
  },
  {
   "cell_type": "markdown",
   "metadata": {},
   "source": [
    "Extract acronyms"
   ]
  },
  {
   "cell_type": "code",
   "execution_count": 85,
   "metadata": {},
   "outputs": [],
   "source": [
    "def extract_acronym(name):\n",
    "    match = re.search(r'\\(([^)]+)\\)', name)\n",
    "    return match.group(1) if match else None"
   ]
  },
  {
   "cell_type": "code",
   "execution_count": 86,
   "metadata": {},
   "outputs": [],
   "source": [
    "aflcio_unions['Acronym'] = aflcio_unions['Name'].apply(extract_acronym)"
   ]
  },
  {
   "cell_type": "code",
   "execution_count": null,
   "metadata": {},
   "outputs": [],
   "source": [
    "aflcio_unions.to_csv('../data/aflcio_unions_cleaned.csv', index=False)"
   ]
  },
  {
   "cell_type": "code",
   "execution_count": 88,
   "metadata": {},
   "outputs": [],
   "source": [
    "def clean_level2(union_name):\n",
    "    # remove \"district\", \"local\" and \"council\" from the name\n",
    "    union_name = re.sub(r'(district|local|council)', '', union_name, flags=re.IGNORECASE)\n",
    "    # remove numbers from the name\n",
    "    union_name = re.sub(r'\\d+', '', union_name)\n",
    "    # remove multiple blanks\n",
    "    union_name = re.sub(r'\\s+', ' ', union_name)\n",
    "    return union_name.strip()\n",
    "\n",
    "def clean_level4_5(union_name):\n",
    "    # Optimized pattern to match \"district council\" or \"local\" followed by a number, allowing a small buffer of words in between\n",
    "    local_pattern = re.search(r'local\\s+\\D{0,20}(\\d+\\S*)', union_name, re.IGNORECASE)\n",
    "    # remove the local number from the name\n",
    "    union_name = re.sub(r'local\\s+\\D{0,20}\\d+\\S*', '', union_name, flags=re.IGNORECASE)\n",
    "    district_pattern = re.search(r'(district council|district|council|dc)\\s+\\D{0,20}(\\d+)', union_name, re.IGNORECASE)\n",
    "    \n",
    "    # Extract district/council number if found\n",
    "    district = district_pattern.group(2) if district_pattern else None\n",
    "    # Extract local number if found\n",
    "    local = local_pattern.group(1) if local_pattern else None\n",
    "    \n",
    "    return district, local\n",
    "\n",
    "def match_aflcio(union_name):\n",
    "\n",
    "    # first check if union_name has one of the acronyms in ()\n",
    "    match = re.search(r'\\(([^)]+)\\)', union_name)\n",
    "    if match:\n",
    "        acronym = match.group(1)\n",
    "        for i, row in aflcio_unions.iterrows():\n",
    "            if row[\"Acronym\"] == acronym:\n",
    "                return acronym.lower()\n",
    "\n",
    "    # Remove unnecessary characters\n",
    "    name = re.sub(r'[^\\w\\s]', '', union_name)\n",
    "    \n",
    "    # Extract the union names (keys) from the unions dictionary\n",
    "    union_names = aflcio_unions[\"Name\"].tolist()\n",
    "    \n",
    "    # Find the closest match using fuzzy matching\n",
    "    best_match = process.extractOne(name, union_names)\n",
    "    \n",
    "    if best_match and best_match[1] > 80:  # Adjust the threshold if needed\n",
    "        matched_full_name = best_match[0]\n",
    "        for i, row in aflcio_unions.iterrows():\n",
    "            full_name = row[\"Name\"]\n",
    "            acronym = row[\"Acronym\"]\n",
    "            if full_name == matched_full_name:\n",
    "                return acronym.lower()\n",
    "    return \"Not Found\""
   ]
  },
  {
   "cell_type": "code",
   "execution_count": 76,
   "metadata": {},
   "outputs": [],
   "source": [
    "new_hierarchy = {}"
   ]
  },
  {
   "cell_type": "code",
   "execution_count": 77,
   "metadata": {},
   "outputs": [
    {
     "name": "stderr",
     "output_type": "stream",
     "text": [
      " 72%|███████▏  | 2088/2911 [00:12<00:04, 177.64it/s]WARNING:root:Applied processor reduces input query to empty string, all comparisons will have score 0. [Query: '']\n",
      "100%|██████████| 2911/2911 [00:16<00:00, 172.62it/s]\n"
     ]
    }
   ],
   "source": [
    "for union in tqdm(all_unions):\n",
    "    new_hierarchy[union] = {}\n",
    "\n",
    "    # Level 1: AFL-CIO affiliation\n",
    "    new_hierarchy[union][\"afl-cio\"] = False\n",
    "\n",
    "    if union in hierarchy[\"afl-cio\"]:\n",
    "        new_hierarchy[union][\"afl-cio\"] = True\n",
    "    \n",
    "    if new_hierarchy[union][\"afl-cio\"] == False:\n",
    "        for acr in aflcio_unions['Acronym']:\n",
    "            if acr in hierarchy and union in hierarchy[acr]:\n",
    "                new_hierarchy[union][\"afl-cio\"] = True\n",
    "                break\n",
    "            elif acr.lower() in union:\n",
    "                new_hierarchy[union][\"afl-cio\"] = True\n",
    "                break\n",
    "\n",
    "    # Level 2: high-level union affiliation\n",
    "    new_hierarchy[union][\"main_union\"] = None\n",
    "\n",
    "    union_name_cleaned = clean_level2(union)\n",
    "\n",
    "    for key in hierarchy:\n",
    "        if key == \"Independent\":\n",
    "            continue\n",
    "        elif key == \"afl-cio\":\n",
    "            new_hierarchy[union][\"main_union\"] = match_aflcio(union_name_cleaned)\n",
    "        elif union in hierarchy[key]:\n",
    "            new_hierarchy[union][\"main_union\"] = key\n",
    "            break\n",
    "    \n",
    "    if new_hierarchy[union][\"main_union\"] == None:\n",
    "        new_hierarchy[union][\"main_union\"] = union_name_cleaned\n",
    "    \n",
    "    # Level 3: sub-union affiliation\n",
    "    pass\n",
    "\n",
    "    # Level 4: district/council union affiliation\n",
    "    district, local = clean_level4_5(union)\n",
    "    new_hierarchy[union][\"district\"] = district\n",
    "\n",
    "    # Level 5: local union affiliation\n",
    "    new_hierarchy[union][\"local\"] = local\n",
    "\n",
    "    "
   ]
  },
  {
   "cell_type": "code",
   "execution_count": null,
   "metadata": {},
   "outputs": [],
   "source": [
    "# save json file (with indent)\n",
    "with open('../data/hierarchy_unions_v1.json', 'w') as f:\n",
    "    json.dump(new_hierarchy, f, indent=4)"
   ]
  },
  {
   "cell_type": "markdown",
   "metadata": {},
   "source": [
    "# Fix hierarchy"
   ]
  },
  {
   "cell_type": "markdown",
   "metadata": {},
   "source": [
    "Open partially cleaned hierarchy"
   ]
  },
  {
   "cell_type": "code",
   "execution_count": 92,
   "metadata": {},
   "outputs": [],
   "source": [
    "# save json file (with indent)\n",
    "with open('../../data/hierarchy_unions_v1.json', 'r') as f:\n",
    "    new_hierarchy = json.load(f)"
   ]
  },
  {
   "cell_type": "markdown",
   "metadata": {},
   "source": [
    "Make sure that what is independent in old hierarchy is left as it is here"
   ]
  },
  {
   "cell_type": "code",
   "execution_count": 93,
   "metadata": {},
   "outputs": [],
   "source": [
    "for union in new_hierarchy:\n",
    "    if union in hierarchy[\"Independent\"]:\n",
    "        new_hierarchy[union][\"main_union\"] = clean_level2(union)"
   ]
  },
  {
   "cell_type": "markdown",
   "metadata": {},
   "source": [
    "Dump"
   ]
  },
  {
   "cell_type": "code",
   "execution_count": null,
   "metadata": {},
   "outputs": [],
   "source": [
    "with open('../data/hierarchy_unions_v2.json', 'w') as f:\n",
    "    json.dump(new_hierarchy, f, indent=4)"
   ]
  }
 ],
 "metadata": {
  "kernelspec": {
   "display_name": "py38",
   "language": "python",
   "name": "python3"
  },
  "language_info": {
   "codemirror_mode": {
    "name": "ipython",
    "version": 3
   },
   "file_extension": ".py",
   "mimetype": "text/x-python",
   "name": "python",
   "nbconvert_exporter": "python",
   "pygments_lexer": "ipython3",
   "version": "3.8.16"
  }
 },
 "nbformat": 4,
 "nbformat_minor": 2
}
