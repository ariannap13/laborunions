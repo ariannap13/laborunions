{
 "cells": [
  {
   "cell_type": "code",
   "execution_count": 21,
   "metadata": {},
   "outputs": [],
   "source": [
    "import pandas as pd\n",
    "from tqdm import tqdm\n",
    "from fuzzywuzzy import process\n",
    "import re\n",
    "import json"
   ]
  },
  {
   "cell_type": "markdown",
   "metadata": {},
   "source": [
    "# Define useful functions"
   ]
  },
  {
   "cell_type": "code",
   "execution_count": 22,
   "metadata": {},
   "outputs": [],
   "source": [
    "def preprocess_strings(string):\n",
    "    string = string.lower()\n",
    "    # remove leading and trailing whitespaces\n",
    "    string = string.strip()\n",
    "    # remove any extra whitespaces\n",
    "    string = re.sub(r'\\s+', ' ', string)\n",
    "    return string"
   ]
  },
  {
   "cell_type": "code",
   "execution_count": 23,
   "metadata": {},
   "outputs": [],
   "source": [
    "def extract_acronyms(name_list):\n",
    "    acronyms = []\n",
    "    for name in name_list:\n",
    "        # Find acronyms in parentheses\n",
    "        parenthetical_acronyms = re.findall(r'\\(([^)]+)\\)', name)\n",
    "        acronyms.extend(parenthetical_acronyms)\n",
    "        \n",
    "        # Find acronyms separated by dashes\n",
    "        dash_acronyms = re.findall(r'-\\s*([a-z]+)', name)\n",
    "        acronyms.extend(dash_acronyms)\n",
    "        \n",
    "        # Find acronyms not in parentheses or separated by dashes\n",
    "        words = name.split()\n",
    "        for word in words:\n",
    "            if word.isupper() and len(word) > 1:\n",
    "                acronyms.append(word)\n",
    "    \n",
    "    return list(set(acronyms))  # Remove duplicates"
   ]
  },
  {
   "cell_type": "markdown",
   "metadata": {},
   "source": [
    "# Election data"
   ]
  },
  {
   "cell_type": "code",
   "execution_count": null,
   "metadata": {},
   "outputs": [],
   "source": [
    "df_elections = pd.read_csv('../data/overall_nlrb_all2024.csv')\n",
    "list_union_orgs_elections = list(set(list(df_elections[\"Labor Org 1 Name\"].unique()) + list(df_elections[\"Labor Org 2 Name\"].unique()) + list(df_elections[\"Labor Org 3 Name\"].unique())))\n",
    "# keep only strings\n",
    "list_union_orgs_elections = [org for org in list_union_orgs_elections if type(org) == str]\n",
    "list_union_orgs_elections = [preprocess_strings(org) for org in list_union_orgs_elections]\n",
    "list_union_orgs_elections = list(set(list_union_orgs_elections))"
   ]
  },
  {
   "cell_type": "code",
   "execution_count": null,
   "metadata": {},
   "outputs": [],
   "source": [
    "df_union_elections = pd.DataFrame(list_union_orgs_elections, columns=[\"union_org\"])\n",
    "df_union_elections.to_csv(\"../data/list_union_orgs_elections.csv\")"
   ]
  },
  {
   "cell_type": "markdown",
   "metadata": {},
   "source": [
    "## Categorization"
   ]
  },
  {
   "cell_type": "code",
   "execution_count": null,
   "metadata": {},
   "outputs": [
    {
     "data": {
      "text/plain": [
       "197"
      ]
     },
     "execution_count": 34,
     "metadata": {},
     "output_type": "execute_result"
    }
   ],
   "source": [
    "# Drop any rows where the 'union_org' column is NaN\n",
    "df_cleaned = df_union_elections.dropna(subset=['union_org'])\n",
    "\n",
    "acronyms = extract_acronyms(df_cleaned[\"union_org\"])\n",
    "len(acronyms)"
   ]
  },
  {
   "cell_type": "markdown",
   "metadata": {},
   "source": [
    "Output and manually clean the list of acronyms"
   ]
  },
  {
   "cell_type": "code",
   "execution_count": null,
   "metadata": {},
   "outputs": [],
   "source": [
    "acronyms.to_csv(\"../data/list_acronyms.csv\", index=False)"
   ]
  },
  {
   "cell_type": "code",
   "execution_count": null,
   "metadata": {},
   "outputs": [],
   "source": [
    "# open list of cleaned acronyms\n",
    "df_acronyms = pd.read_csv(\"../data/list_acronyms_cleaned.csv\")\n",
    "acronyms = list(df_acronyms[\"acronym\"])"
   ]
  },
  {
   "cell_type": "code",
   "execution_count": 42,
   "metadata": {},
   "outputs": [],
   "source": [
    "union_orgs = df_cleaned['union_org'].tolist()\n",
    "\n",
    "# Hierarchy dictionary\n",
    "hierarchy = {acr : [] for acr in acronyms}\n",
    "hierarchy[\"Independent\"] = []\n",
    "\n",
    "# Function to categorize unions\n",
    "def categorize_union(org_name):\n",
    "    for acr in acronyms:\n",
    "        ## subset org_name by considering only text in parentheses or after a dash\n",
    "        # org_acr = re.findall(r'\\(([^)]+)\\)', org_name)\n",
    "        # org_acr.extend(re.findall(r'-\\s*([a-z]+)', org_name))\n",
    "        # org_acr = \" \".join(org_acr)\n",
    "        if acr in org_name:\n",
    "            hierarchy[acr].append(org_name)\n",
    "            return\n",
    "    hierarchy[\"Independent\"].append(org_name)\n",
    "\n",
    "# Apply categorization\n",
    "for org in union_orgs:\n",
    "    # if not empty string\n",
    "    if len(org) > 0:\n",
    "        categorize_union(org)"
   ]
  },
  {
   "cell_type": "code",
   "execution_count": null,
   "metadata": {},
   "outputs": [],
   "source": [
    "# save as json file (easy to read with indentation)\n",
    "with open(\"../data/hierarchy_elections.json\", \"w\") as outfile:\n",
    "    json.dump(hierarchy, outfile, indent=4)"
   ]
  }
 ],
 "metadata": {
  "kernelspec": {
   "display_name": "py38",
   "language": "python",
   "name": "python3"
  },
  "language_info": {
   "codemirror_mode": {
    "name": "ipython",
    "version": 3
   },
   "file_extension": ".py",
   "mimetype": "text/x-python",
   "name": "python",
   "nbconvert_exporter": "python",
   "pygments_lexer": "ipython3",
   "version": "3.8.16"
  }
 },
 "nbformat": 4,
 "nbformat_minor": 2
}
