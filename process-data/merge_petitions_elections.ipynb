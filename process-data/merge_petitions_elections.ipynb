{
 "cells": [
  {
   "cell_type": "code",
   "execution_count": 1,
   "metadata": {},
   "outputs": [],
   "source": [
    "import pandas as pd\n",
    "import numpy as np\n",
    "from fuzzywuzzy import process\n",
    "from tqdm import tqdm"
   ]
  },
  {
   "cell_type": "markdown",
   "metadata": {},
   "source": [
    "# Open data"
   ]
  },
  {
   "cell_type": "code",
   "execution_count": 2,
   "metadata": {},
   "outputs": [],
   "source": [
    "# Load petition filing data\n",
    "petitions = pd.read_csv('../data/petition_nlrb_all2024.csv')\n",
    "\n",
    "# Load elections data\n",
    "elections = pd.read_csv('../data/elections_nlrb_all2024.csv')"
   ]
  },
  {
   "cell_type": "markdown",
   "metadata": {},
   "source": [
    "# Merge petitions and elections"
   ]
  },
  {
   "cell_type": "code",
   "execution_count": 3,
   "metadata": {},
   "outputs": [
    {
     "data": {
      "text/plain": [
       "((23676, 13), (12126, 38), (23676, 50))"
      ]
     },
     "execution_count": 3,
     "metadata": {},
     "output_type": "execute_result"
    }
   ],
   "source": [
    "# merge elections data with petitions data, based on \"Case Number\"\n",
    "merged = pd.merge(petitions, elections, on='Case Number', how='left')\n",
    "petitions.shape, elections.shape, merged.shape"
   ]
  },
  {
   "cell_type": "markdown",
   "metadata": {},
   "source": [
    "Transform both merged \"Election Held Date\" and collective bargaining \"Initiated Date\" as datetime"
   ]
  },
  {
   "cell_type": "code",
   "execution_count": 5,
   "metadata": {},
   "outputs": [],
   "source": [
    "merged[\"Election Held Date\"] = pd.to_datetime(merged[\"Election Held Date\"], errors='coerce', format='mixed').dt.date\n",
    "merged[\"Date Filed\"] = pd.to_datetime(merged[\"Date Filed\"], errors='coerce', format='mixed').dt.date"
   ]
  },
  {
   "cell_type": "code",
   "execution_count": 7,
   "metadata": {},
   "outputs": [],
   "source": [
    "# export merged data\n",
    "merged.to_csv('../data/overall_nlrb_all2024.csv', index=False)"
   ]
  }
 ],
 "metadata": {
  "kernelspec": {
   "display_name": "py38",
   "language": "python",
   "name": "python3"
  },
  "language_info": {
   "codemirror_mode": {
    "name": "ipython",
    "version": 3
   },
   "file_extension": ".py",
   "mimetype": "text/x-python",
   "name": "python",
   "nbconvert_exporter": "python",
   "pygments_lexer": "ipython3",
   "version": "3.8.16"
  }
 },
 "nbformat": 4,
 "nbformat_minor": 2
}
