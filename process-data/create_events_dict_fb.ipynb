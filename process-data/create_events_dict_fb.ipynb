{
 "cells": [
  {
   "cell_type": "code",
   "execution_count": 1,
   "metadata": {},
   "outputs": [],
   "source": [
    "import pandas as pd\n",
    "import json\n",
    "from tqdm import tqdm\n",
    "import os"
   ]
  },
  {
   "cell_type": "markdown",
   "metadata": {},
   "source": [
    "## Online data"
   ]
  },
  {
   "cell_type": "markdown",
   "metadata": {},
   "source": [
    "### Social media data"
   ]
  },
  {
   "cell_type": "code",
   "execution_count": 2,
   "metadata": {},
   "outputs": [],
   "source": [
    "posts_data = pd.read_csv(\"../data/fb_data_with_predictions.csv\")"
   ]
  },
  {
   "cell_type": "markdown",
   "metadata": {},
   "source": [
    "## Offline data"
   ]
  },
  {
   "cell_type": "code",
   "execution_count": 3,
   "metadata": {},
   "outputs": [
    {
     "name": "stderr",
     "output_type": "stream",
     "text": [
      "/var/folders/3g/c8qm42k164b6t37cxylyjjfc0000gn/T/ipykernel_15475/3571609864.py:1: DtypeWarning: Columns (17,18,25,26,27,46,47) have mixed types. Specify dtype option on import or set low_memory=False.\n",
      "  offline_data = pd.read_csv(\"../data/overall_nlrb_all2024.csv\")\n"
     ]
    }
   ],
   "source": [
    "offline_data = pd.read_csv(\"../data/overall_nlrb_all2024.csv\")"
   ]
  },
  {
   "cell_type": "markdown",
   "metadata": {},
   "source": [
    "## Map between social media accounts and union names"
   ]
  },
  {
   "cell_type": "code",
   "execution_count": 6,
   "metadata": {},
   "outputs": [],
   "source": [
    "highlevel_unions = pd.read_csv(\"../../../data/fb_data/fb_highlevel_unions_tocheck_v4.csv\")\n",
    "highlevel_unions = highlevel_unions.dropna(subset=[\"account_match\"])"
   ]
  },
  {
   "cell_type": "code",
   "execution_count": 7,
   "metadata": {},
   "outputs": [],
   "source": [
    "highlevel_unions_handles = highlevel_unions[[\"union\", \"account_match\"]]\n",
    "highlevel_unions_handles.columns = [\"main_union\", \"handle\"]"
   ]
  },
  {
   "cell_type": "markdown",
   "metadata": {},
   "source": [
    "Add info on main_union (if available) from hierarchy file"
   ]
  },
  {
   "cell_type": "code",
   "execution_count": 9,
   "metadata": {},
   "outputs": [],
   "source": [
    "list_files = []\n",
    "for file in os.listdir(\"../../../data/\"):\n",
    "    if file.endswith(\".json\") and \"hierarchy_unions\" in file:\n",
    "        v_number = int(file.split(\"_\")[-1].split(\".\")[0].split(\"v\")[-1])\n",
    "        list_files.append([file, v_number])\n",
    "\n",
    "# sort files by version number\n",
    "list_files.sort(key=lambda x: x[1])\n",
    "\n",
    "file = list_files[-1]\n",
    "\n",
    "with open(\"../../../data/\" + file[0], \"r\") as f:\n",
    "    union_names = json.load(f)"
   ]
  },
  {
   "cell_type": "markdown",
   "metadata": {},
   "source": [
    "From the hierarchy, we have to find all unions that have union name or main_union equal to union"
   ]
  },
  {
   "cell_type": "code",
   "execution_count": 10,
   "metadata": {},
   "outputs": [],
   "source": [
    "union_dict = {}\n",
    "for union in union_names:\n",
    "    if union_names[union][\"main_union\"] in highlevel_unions_handles[\"main_union\"].values:\n",
    "        if union_names[union][\"main_union\"] not in union_dict:\n",
    "            union_dict[union_names[union][\"main_union\"]] = []\n",
    "        union_dict[union_names[union][\"main_union\"]].append(union)"
   ]
  },
  {
   "cell_type": "code",
   "execution_count": 11,
   "metadata": {},
   "outputs": [],
   "source": [
    "rows = []\n",
    "for main_union in union_dict:\n",
    "    for union in union_dict[main_union]:\n",
    "        handle = highlevel_unions_handles[highlevel_unions_handles[\"main_union\"] == main_union][\"handle\"].values[0]\n",
    "        rows.append([main_union, union, handle])"
   ]
  },
  {
   "cell_type": "code",
   "execution_count": 12,
   "metadata": {},
   "outputs": [],
   "source": [
    "unions_df = pd.DataFrame(rows, columns=[\"main_union\", \"union\", \"handle\"])"
   ]
  },
  {
   "cell_type": "markdown",
   "metadata": {},
   "source": [
    "## Offline-online map"
   ]
  },
  {
   "cell_type": "markdown",
   "metadata": {},
   "source": [
    "Offline events dates"
   ]
  },
  {
   "cell_type": "code",
   "execution_count": 13,
   "metadata": {},
   "outputs": [],
   "source": [
    "offline_data[\"Labor Org 1 Name\"] = offline_data[\"Labor Org 1 Name\"].str.lower()\n",
    "offline_data[\"Labor Org 2 Name\"] = offline_data[\"Labor Org 2 Name\"].str.lower()\n",
    "offline_data[\"Labor Org 3 Name\"] = offline_data[\"Labor Org 3 Name\"].str.lower()\n",
    "offline_data[\"Labor Org3\"] = offline_data[\"Labor Org3\"].str.lower()\n",
    "offline_data[\"Union To Certify\"] = offline_data[\"Union To Certify\"].str.lower()"
   ]
  },
  {
   "cell_type": "code",
   "execution_count": 15,
   "metadata": {},
   "outputs": [],
   "source": [
    "# Create a dictionary for union handles to avoid repeated DataFrame lookups\n",
    "union_handles = dict(zip(unions_df[\"union\"], unions_df[\"handle\"]))\n",
    "\n",
    "# Filter offline data once for \"RC\" and \"RD\" cases\n",
    "rc_cases = offline_data[offline_data[\"Case Number\"].str.contains(\"RC\")]\n",
    "\n",
    "rc_cases = rc_cases.rename(columns={\"City_x\": \"City\"})\n",
    "\n",
    "rc_cases['Date Filed'] = pd.to_datetime(rc_cases['Date Filed']).dt.date\n",
    "rc_cases['Election Held Date'] = pd.to_datetime(rc_cases['Election Held Date'], errors='coerce', format='mixed').dt.date\n",
    "rc_cases[\"Closed Date\"] = pd.to_datetime(rc_cases[\"Closed Date\"], errors='coerce', format='mixed').dt.date"
   ]
  },
  {
   "cell_type": "code",
   "execution_count": 16,
   "metadata": {},
   "outputs": [
    {
     "name": "stderr",
     "output_type": "stream",
     "text": [
      "100%|██████████| 5518/5518 [00:47<00:00, 115.13it/s]\n"
     ]
    }
   ],
   "source": [
    "events_dict_complete = {}\n",
    "\n",
    "for i, row in tqdm(unions_df.iterrows(), total=unions_df.shape[0]):\n",
    "    union = row[\"union\"]\n",
    "\n",
    "    main_union = row[\"main_union\"]\n",
    "    handle = union_handles[union]\n",
    "\n",
    "    if main_union not in events_dict_complete:\n",
    "        events_dict_complete[main_union] = {\n",
    "            \"handle\": handle,\n",
    "            \"cases\": []\n",
    "        }\n",
    "\n",
    "\n",
    "    # Filter rows where union is either in \"Union To Certify\" or \"Labor Org 1 Name\"\n",
    "    rc_union_rows = rc_cases[(rc_cases[\"Union To Certify\"] == union)]\n",
    "    # Filter rows where union is in the election\n",
    "    rc_union_rows = pd.concat([rc_union_rows, rc_cases[(rc_cases[\"Labor Org 1 Name\"] == union) & (pd.isnull(rc_cases[\"Union To Certify\"]))]])\n",
    "    rc_union_rows = pd.concat([rc_union_rows, rc_cases[(rc_cases[\"Labor Org 2 Name\"] == union)]])\n",
    "    rc_union_rows = pd.concat([rc_union_rows, rc_cases[(rc_cases[\"Labor Org 3 Name\"] == union)]])\n",
    "    rc_union_rows = pd.concat([rc_union_rows, rc_cases[(rc_cases[\"Labor Org3\"] == union)]])\n",
    "\n",
    "    for _, row in rc_union_rows.iterrows():\n",
    "        case_number = row[\"Case Number\"]\n",
    "\n",
    "        election_date_indata = True\n",
    "\n",
    "        if ((row[\"Labor Org 1 Name\"] == union) & (pd.isnull(row[\"Union To Certify\"]))) or row[\"Union To Certify\"] == union:\n",
    "            if row[\"Cert of Rep (Win)\"] == \"WON\" or row[\"Certification of Representative Date (Win)\"] == \"WON\":\n",
    "                if not pd.isnull(row[\"Election Held Date\"]):\n",
    "                    case_winning_election_date = row[\"Election Held Date\"]\n",
    "                else:\n",
    "                    case_winning_election_date = row[\"Closed Date\"]\n",
    "                    election_date_indata = False\n",
    "            else:\n",
    "                case_winning_election_date = None\n",
    "\n",
    "            if row[\"Cert of Results (Loss)\"] == \"LOSS\" or row[\"Certification of Results Date (Loss)\"] == \"LOSS\":\n",
    "                if not pd.isnull(row[\"Election Held Date\"]):\n",
    "                    case_losing_election_date = row[\"Election Held Date\"]\n",
    "                else:\n",
    "                    case_losing_election_date = row[\"Closed Date\"]\n",
    "                    election_date_indata = False\n",
    "            else:\n",
    "                case_losing_election_date = None\n",
    "        else:\n",
    "            case_winning_election_date = None\n",
    "            if not pd.isnull(row[\"Election Held Date\"]):\n",
    "                case_losing_election_date = row[\"Election Held Date\"]\n",
    "            else:\n",
    "                case_losing_election_date = row[\"Closed Date\"]\n",
    "                election_date_indata = False\n",
    "\n",
    "        events_dict_complete[main_union][\"cases\"].append({\n",
    "            \"union\": union,\n",
    "            \"case_number\": case_number,\n",
    "            # convert to string to avoid json serialization error\n",
    "            \"case_winning_election_date\":  str(case_winning_election_date),\n",
    "            \"case_losing_election_date\": str(case_losing_election_date),\n",
    "        })\n"
   ]
  },
  {
   "cell_type": "code",
   "execution_count": null,
   "metadata": {},
   "outputs": [],
   "source": [
    "# save events dict to json\n",
    "with open(\"../data/events_dict_fb_all2024.json\", \"w\") as f:\n",
    "    json.dump(events_dict_complete, f, indent=4)"
   ]
  }
 ],
 "metadata": {
  "kernelspec": {
   "display_name": "py38",
   "language": "python",
   "name": "python3"
  },
  "language_info": {
   "codemirror_mode": {
    "name": "ipython",
    "version": 3
   },
   "file_extension": ".py",
   "mimetype": "text/x-python",
   "name": "python",
   "nbconvert_exporter": "python",
   "pygments_lexer": "ipython3",
   "version": "3.8.16"
  }
 },
 "nbformat": 4,
 "nbformat_minor": 2
}
