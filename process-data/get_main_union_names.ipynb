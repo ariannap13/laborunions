{
 "cells": [
  {
   "cell_type": "code",
   "execution_count": 25,
   "metadata": {},
   "outputs": [],
   "source": [
    "import json\n",
    "import pandas as pd\n",
    "import os"
   ]
  },
  {
   "cell_type": "markdown",
   "metadata": {},
   "source": [
    "Open last available hierarchy file"
   ]
  },
  {
   "cell_type": "code",
   "execution_count": null,
   "metadata": {},
   "outputs": [],
   "source": [
    "list_files = []\n",
    "for file in os.listdir(\"../data/\"):\n",
    "    if file.endswith(\".json\") and \"hierarchy_unions\" in file:\n",
    "        v_number = int(file.split(\"_\")[-1].split(\".\")[0].split(\"v\")[-1])\n",
    "        list_files.append([file, v_number])\n",
    "\n",
    "# sort files by version number\n",
    "list_files.sort(key=lambda x: x[1])\n",
    "\n",
    "file = list_files[-1]"
   ]
  },
  {
   "cell_type": "code",
   "execution_count": null,
   "metadata": {},
   "outputs": [],
   "source": [
    "with open(\"../data/\" + file[0], \"r\") as f:\n",
    "    hierarchy = json.load(f)"
   ]
  },
  {
   "cell_type": "markdown",
   "metadata": {},
   "source": [
    "Get main union names from hierarchy file"
   ]
  },
  {
   "cell_type": "code",
   "execution_count": 29,
   "metadata": {},
   "outputs": [],
   "source": [
    "list_main_unions_aflcio = []\n",
    "list_main_unions_independent = []\n",
    "for union in hierarchy:\n",
    "    if hierarchy[union][\"afl-cio\"]==True:\n",
    "        if hierarchy[union][\"main_union\"] != \"Not Found\":\n",
    "            list_main_unions_aflcio.append(hierarchy[union][\"main_union\"])\n",
    "    else:\n",
    "        if hierarchy[union][\"main_union\"] != \"Not Found\":\n",
    "            list_main_unions_independent.append(hierarchy[union][\"main_union\"])\n",
    "\n",
    "list_main_unions_aflcio = list(set(list_main_unions_aflcio))\n",
    "list_main_unions_independent = list(set(list_main_unions_independent))"
   ]
  },
  {
   "cell_type": "code",
   "execution_count": null,
   "metadata": {},
   "outputs": [],
   "source": [
    "df_main_unions_aflcio = pd.DataFrame(list_main_unions_aflcio, columns=[\"main_union\"])\n",
    "df_main_unions_aflcio.to_csv(\"../data/main_unions_names_aflcio_v2.csv\", index=False)"
   ]
  },
  {
   "cell_type": "code",
   "execution_count": null,
   "metadata": {},
   "outputs": [],
   "source": [
    "df_main_unions_independent = pd.DataFrame(list_main_unions_independent, columns=[\"main_union\"])\n",
    "df_main_unions_independent.to_csv(\"../data/main_unions_names_independent_v2.csv\", index=False)"
   ]
  }
 ],
 "metadata": {
  "kernelspec": {
   "display_name": "py38",
   "language": "python",
   "name": "python3"
  },
  "language_info": {
   "codemirror_mode": {
    "name": "ipython",
    "version": 3
   },
   "file_extension": ".py",
   "mimetype": "text/x-python",
   "name": "python",
   "nbconvert_exporter": "python",
   "pygments_lexer": "ipython3",
   "version": "3.8.16"
  }
 },
 "nbformat": 4,
 "nbformat_minor": 2
}
