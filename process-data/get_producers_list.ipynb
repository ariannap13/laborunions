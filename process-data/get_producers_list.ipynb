{
 "cells": [
  {
   "cell_type": "code",
   "execution_count": 26,
   "metadata": {},
   "outputs": [],
   "source": [
    "import pandas as pd\n",
    "import numpy as np\n",
    "import os\n",
    "import json\n",
    "import re"
   ]
  },
  {
   "cell_type": "code",
   "execution_count": null,
   "metadata": {},
   "outputs": [],
   "source": [
    "data_dir = \"../data/\""
   ]
  },
  {
   "cell_type": "markdown",
   "metadata": {},
   "source": [
    "# High-level unions"
   ]
  },
  {
   "cell_type": "code",
   "execution_count": null,
   "metadata": {},
   "outputs": [],
   "source": [
    "highlevel_df = []\n",
    "for file in os.listdir(data_dir):\n",
    "    if file.endswith(\".json\"):\n",
    "        with open(data_dir + file) as f:\n",
    "            data = json.load(f)\n",
    "            local_union_name = file.split(\"search_results_\")[1].split(\".json\")[0]\n",
    "            list_users = []\n",
    "            for webpage in data[\"webPages\"][\"value\"]:\n",
    "                if \"www.facebook.com/\" in webpage[\"url\"] and \"groups/\" not in webpage[\"url\"]:\n",
    "                    # extract username from url\n",
    "                    username = webpage[\"url\"].split(\"www.facebook.com/\")[1].split(\"/\")[0]\n",
    "                    list_users.append(username)\n",
    "            if len(list_users) > 0:\n",
    "                highlevel_df.append({\"union\": local_union_name, \"users\": list_users})\n",
    "\n",
    "highlevel_df = pd.DataFrame(highlevel_df)"
   ]
  },
  {
   "cell_type": "code",
   "execution_count": null,
   "metadata": {},
   "outputs": [],
   "source": [
    "highlevel_df.to_csv(\"../data/fb_highlevel_unions_tocheck.csv\", index=False)"
   ]
  },
  {
   "cell_type": "markdown",
   "metadata": {},
   "source": [
    "We then perform a manual check of the matches. We then load the final checked version"
   ]
  },
  {
   "cell_type": "code",
   "execution_count": null,
   "metadata": {},
   "outputs": [],
   "source": [
    "highlevel_df = pd.read_csv(\"../data/fb_highlevel_unions_checked.csv\")"
   ]
  },
  {
   "cell_type": "markdown",
   "metadata": {},
   "source": [
    "Create producer list"
   ]
  },
  {
   "cell_type": "code",
   "execution_count": 19,
   "metadata": {},
   "outputs": [
    {
     "data": {
      "text/plain": [
       "['ATUInternational',\n",
       " 'Boilermakers.Union',\n",
       " 'unitehere',\n",
       " 'ESCLocal20',\n",
       " 'hoteltradescouncil',\n",
       " 'MachinistsUnion',\n",
       " 'SMWLocal19',\n",
       " 'smartunion',\n",
       " 'ILAUnion',\n",
       " 'unionironworkers',\n",
       " 'uaw.union',\n",
       " 'UMWAunion',\n",
       " 'UnitedAssociation',\n",
       " 'IBEWFB',\n",
       " 'NYSUTUnited',\n",
       " 'ironworkersnw',\n",
       " 'iatse',\n",
       " 'meba1875',\n",
       " 'unionroofers',\n",
       " 'OPCMIAIntl',\n",
       " 'AFTacts',\n",
       " 'theUWUA',\n",
       " 'neatoday',\n",
       " 'CWAUnion',\n",
       " 'MontanaNurses',\n",
       " 'IOMMP',\n",
       " 'AFSCME',\n",
       " 'brookvillecenterunited',\n",
       " 'RWDSU.UFCW',\n",
       " 'NATCAfamily',\n",
       " 'AmericanGuildofMusicalArtists',\n",
       " 'ctulocal1',\n",
       " 'UnitedAcademicsOfPhiladelphia',\n",
       " 'Metaltrades',\n",
       " 'bctgmunion',\n",
       " 'WGAEast',\n",
       " 'SeafarersInternational',\n",
       " 'GoIUPAT',\n",
       " 'afgeunion',\n",
       " 'opeiu',\n",
       " 'MaritimeTrades',\n",
       " 'SAGAFTRA',\n",
       " 'APWUnational',\n",
       " 'MFPE.org',\n",
       " 'iuoe.union',\n",
       " 'AFTunion',\n",
       " 'IFPTE',\n",
       " 'steelworkers',\n",
       " 'IUBAC',\n",
       " 'local259',\n",
       " 'afm.org',\n",
       " 'hpae.aft',\n",
       " 'IAFFofficial',\n",
       " 'PHSWCaregiversUnited',\n",
       " 'TransportWorkersUnion',\n",
       " 'BrotherhoodofRailroadSignalmen',\n",
       " 'InsulatorsUnion',\n",
       " 'njstatefmba',\n",
       " 'Local338',\n",
       " 'AEAStaffOrg',\n",
       " 'ufcwinternational',\n",
       " 'csea.now',\n",
       " 'nationalnurses',\n",
       " 'SEIU',\n",
       " 'teamsters',\n",
       " 'LaborersInternationalUnionofNorthAmerica']"
      ]
     },
     "execution_count": 19,
     "metadata": {},
     "output_type": "execute_result"
    }
   ],
   "source": [
    "# get FB account names as producer lists\n",
    "producer_list_new = list(highlevel_df[highlevel_df[\"match\"].notnull()][\"match\"].unique())\n",
    "producer_list_new"
   ]
  },
  {
   "cell_type": "code",
   "execution_count": 20,
   "metadata": {},
   "outputs": [],
   "source": [
    "producer_list_new = [f\"https://www.facebook.com/{producer}/\" for producer in producer_list_new]"
   ]
  },
  {
   "cell_type": "code",
   "execution_count": 21,
   "metadata": {},
   "outputs": [],
   "source": [
    "producer_list_df = pd.DataFrame(producer_list_new, columns=[\"Producer URL\"])"
   ]
  },
  {
   "cell_type": "code",
   "execution_count": null,
   "metadata": {},
   "outputs": [
    {
     "name": "stderr",
     "output_type": "stream",
     "text": [
      "/var/folders/3g/c8qm42k164b6t37cxylyjjfc0000gn/T/ipykernel_98729/1117320842.py:4: FutureWarning: The frame.append method is deprecated and will be removed from pandas in a future version. Use pandas.concat instead.\n",
      "  producer_list_df_new = producer_list_df_new.append({\"Producer URL\": link}, ignore_index=True)\n",
      "/var/folders/3g/c8qm42k164b6t37cxylyjjfc0000gn/T/ipykernel_98729/1117320842.py:4: FutureWarning: The frame.append method is deprecated and will be removed from pandas in a future version. Use pandas.concat instead.\n",
      "  producer_list_df_new = producer_list_df_new.append({\"Producer URL\": link}, ignore_index=True)\n"
     ]
    }
   ],
   "source": [
    "producer_list_df_new = pd.DataFrame(columns=[\"Producer URL\"])\n",
    "for link in producer_list_df[\"Producer URL\"]:\n",
    "    producer_list_df_new = producer_list_df_new.append({\"Producer URL\": link}, ignore_index=True)"
   ]
  },
  {
   "cell_type": "code",
   "execution_count": null,
   "metadata": {},
   "outputs": [],
   "source": [
    "producer_list_df_new.to_csv(\"../data/fb_producer_list.csv\", index=False)"
   ]
  }
 ],
 "metadata": {
  "kernelspec": {
   "display_name": "py38",
   "language": "python",
   "name": "python3"
  },
  "language_info": {
   "codemirror_mode": {
    "name": "ipython",
    "version": 3
   },
   "file_extension": ".py",
   "mimetype": "text/x-python",
   "name": "python",
   "nbconvert_exporter": "python",
   "pygments_lexer": "ipython3",
   "version": "3.8.16"
  }
 },
 "nbformat": 4,
 "nbformat_minor": 2
}
